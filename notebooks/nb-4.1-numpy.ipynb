{
 "cells": [
  {
   "cell_type": "markdown",
   "metadata": {},
   "source": [
    "# Notebook 4.1: Introduction to Numpy\n",
    "\n",
    "This notebook is associated with the following accompanied reading: \n",
    "\n",
    "+ Yandell, Mark, and Daniel Ence. 2012. “A Beginner’s Guide to Eukaryotic Genome Annotation.” Nature Reviews Genetics 13 (5): 329–42. https://doi.org/10.1038/nrg3174.\n",
    "\n",
    "\n",
    "+ The Python Data Science Handbook **Chapter 2** https://jakevdp.github.io/PythonDataScienceHandbook/\n"
   ]
  },
  {
   "cell_type": "markdown",
   "metadata": {},
   "source": [
    "## Learning objectives: \n",
    "\n",
    "By the end of this module you should be able to:\n",
    "\n",
    "1. Find and use scientific and numerical functions in `numpy`.\n",
    "2. Generate arrays of data and compute values on them. \n",
    "3. Understand the difference between lists and numpy arrays.\n",
    "4. Calculate N50 contig size. \n"
   ]
  },
  {
   "cell_type": "markdown",
   "metadata": {},
   "source": [
    "## Introduction to numpy\n",
    "\n",
    "This notebook should be completed while reading Chapter 2 of the Data Science Handbook that was assigned for your reading. The numpy library is a *third party* Python library, meaning that it is not distributed by default with every Python installation. It can be easily installed however, and provides a huge suite of tools for scientific computing. I think that the assigned Chapter introduces numpy very well, so this notebook will mostly consist of exercises to test your comprehension of the reading. "
   ]
  },
  {
   "cell_type": "code",
   "execution_count": 1,
   "metadata": {},
   "outputs": [],
   "source": [
    "# start by importing numpy \n",
    "import numpy as np\n"
   ]
  },
  {
   "cell_type": "markdown",
   "metadata": {},
   "source": [
    "### Create a numpy array\n",
    "There are many ways to create a numpy array. Numpy has several built-in functions for generating arrays that are composed entirely of one value, or a range of values using `.zeros()`, `.ones()`, or `.arange()`; or, we can also generate an array by passing in a list like in the last two examples below. "
   ]
  },
  {
   "cell_type": "code",
   "execution_count": 2,
   "metadata": {},
   "outputs": [
    {
     "data": {
      "text/plain": [
       "array([0., 0., 0., 0., 0., 0., 0., 0., 0., 0.])"
      ]
     },
     "execution_count": 2,
     "metadata": {},
     "output_type": "execute_result"
    }
   ],
   "source": [
    "# create an array with ten items in it that are all zeros\n",
    "np.zeros(10)"
   ]
  },
  {
   "cell_type": "code",
   "execution_count": 3,
   "metadata": {},
   "outputs": [
    {
     "data": {
      "text/plain": [
       "array([0, 0, 0, 0, 0, 0, 0, 0, 0, 0])"
      ]
     },
     "execution_count": 3,
     "metadata": {},
     "output_type": "execute_result"
    }
   ],
   "source": [
    "# create an array with ten items that are all zeros as integers\n",
    "np.zeros(10, dtype=int)"
   ]
  },
  {
   "cell_type": "code",
   "execution_count": 4,
   "metadata": {},
   "outputs": [
    {
     "data": {
      "text/plain": [
       "array([0, 1, 2, 3, 4, 5, 6, 7, 8, 9])"
      ]
     },
     "execution_count": 4,
     "metadata": {},
     "output_type": "execute_result"
    }
   ],
   "source": [
    "# create an array with a range of values from 0-10\n",
    "np.arange(0, 10)"
   ]
  },
  {
   "cell_type": "code",
   "execution_count": 5,
   "metadata": {},
   "outputs": [
    {
     "data": {
      "text/plain": [
       "array([ 0,  3,  4, 10,  2,  2,  2,  2])"
      ]
     },
     "execution_count": 5,
     "metadata": {},
     "output_type": "execute_result"
    }
   ],
   "source": [
    "# create an array from a list\n",
    "np.array([0, 3, 4, 10, 2, 2, 2, 2])"
   ]
  },
  {
   "cell_type": "code",
   "execution_count": 6,
   "metadata": {},
   "outputs": [
    {
     "data": {
      "text/plain": [
       "array([0, 1, 0, 1, 0, 1, 0, 1, 0, 1])"
      ]
     },
     "execution_count": 6,
     "metadata": {},
     "output_type": "execute_result"
    }
   ],
   "source": [
    "# create an array that is made of 0 and 1 alternating\n",
    "np.array([0, 1] * 5)"
   ]
  },
  {
   "cell_type": "markdown",
   "metadata": {},
   "source": [
    "### However, the datatype is important... \n",
    "When you create a numpy array from a list it tries to infer the datatype from contents of the list. Above, when we created a list of all int elements it created an int array. However, when we pass it a list below where some elements are ints and some are strings, it converts everything to strings. **This is because numpy works most efficiently by storing all data in an array as a single datatype**. You can create arrays with a mixed datatype but you lose much of the efficiency of numpy when you do so. "
   ]
  },
  {
   "cell_type": "code",
   "execution_count": 7,
   "metadata": {},
   "outputs": [
    {
     "data": {
      "text/plain": [
       "array(['0', '1', 'apple', 'orange'], dtype='<U21')"
      ]
     },
     "execution_count": 7,
     "metadata": {},
     "output_type": "execute_result"
    }
   ],
   "source": [
    "# mixed type lists will be converted to a single dtype array\n",
    "np.array([0, 1, \"apple\", \"orange\"])"
   ]
  },
  {
   "cell_type": "markdown",
   "metadata": {},
   "source": [
    "## Dimensions and indexing\n",
    "\n",
    "Numpy arrays can be indexed just like Python list objects to select particular elements from them. In addition to the one dimension in which lists can be indexed, however, arrays can be indexed in multiple dimensions to select both rows and columns, and they can apply functions over these indices as well. If you need a refresher on how to `index` and `slice` objects in Python look back at our reading from last week ([link](https://docs.python.org/3/tutorial/introduction.html)), or google \"python indexing\". "
   ]
  },
  {
   "cell_type": "code",
   "execution_count": 8,
   "metadata": {},
   "outputs": [
    {
     "data": {
      "text/plain": [
       "array([[0., 0., 0., 0.],\n",
       "       [0., 0., 0., 0.],\n",
       "       [0., 0., 0., 0.],\n",
       "       [0., 0., 0., 0.]])"
      ]
     },
     "execution_count": 8,
     "metadata": {},
     "output_type": "execute_result"
    }
   ],
   "source": [
    "# create a 2-dimensional array \n",
    "np.zeros((4, 4))"
   ]
  },
  {
   "cell_type": "code",
   "execution_count": 9,
   "metadata": {
    "scrolled": true
   },
   "outputs": [
    {
     "data": {
      "text/plain": [
       "array([[[0., 0., 0.],\n",
       "        [0., 0., 0.],\n",
       "        [0., 0., 0.]],\n",
       "\n",
       "       [[0., 0., 0.],\n",
       "        [0., 0., 0.],\n",
       "        [0., 0., 0.]],\n",
       "\n",
       "       [[0., 0., 0.],\n",
       "        [0., 0., 0.],\n",
       "        [0., 0., 0.]],\n",
       "\n",
       "       [[0., 0., 0.],\n",
       "        [0., 0., 0.],\n",
       "        [0., 0., 0.]],\n",
       "\n",
       "       [[0., 0., 0.],\n",
       "        [0., 0., 0.],\n",
       "        [0., 0., 0.]]])"
      ]
     },
     "execution_count": 9,
     "metadata": {},
     "output_type": "execute_result"
    }
   ],
   "source": [
    "# create a 3-dimensional array\n",
    "np.zeros((5, 3, 3))\n"
   ]
  },
  {
   "cell_type": "code",
   "execution_count": 10,
   "metadata": {},
   "outputs": [
    {
     "data": {
      "text/plain": [
       "3"
      ]
     },
     "execution_count": 10,
     "metadata": {},
     "output_type": "execute_result"
    }
   ],
   "source": [
    "# index the third element in a 1-d array\n",
    "np.arange(100)[3]"
   ]
  },
  {
   "cell_type": "code",
   "execution_count": 11,
   "metadata": {},
   "outputs": [
    {
     "data": {
      "text/plain": [
       "array([3, 4, 5, 6, 7, 8, 9])"
      ]
     },
     "execution_count": 11,
     "metadata": {},
     "output_type": "execute_result"
    }
   ],
   "source": [
    "# slice the third through tenth elements in a 1-d array\n",
    "np.arange(100)[3:10]"
   ]
  },
  {
   "cell_type": "markdown",
   "metadata": {},
   "source": [
    "### Testing your skills"
   ]
  },
  {
   "cell_type": "markdown",
   "metadata": {},
   "source": [
    "<div class=\"alert alert-success\">\n",
    "    <b>Action [5]:</b> \n",
    "    Create a 2-dimensional array with 3 rows and 5 columns that is composed entirely of cells with the integer value 35. \n",
    "</div>"
   ]
  },
  {
   "cell_type": "code",
   "execution_count": null,
   "metadata": {},
   "outputs": [],
   "source": []
  },
  {
   "cell_type": "markdown",
   "metadata": {},
   "source": [
    "<div class=\"alert alert-success\">\n",
    "    <b>Action [6]:</b> \n",
    "    Create a 2-dimensional array of size (3, 5) that is composed of random integers generated by numpy.\n",
    "</div>"
   ]
  },
  {
   "cell_type": "code",
   "execution_count": null,
   "metadata": {},
   "outputs": [],
   "source": []
  },
  {
   "cell_type": "markdown",
   "metadata": {},
   "source": [
    "<div class=\"alert alert-success\">\n",
    "    <b>Action [7]:</b> \n",
    "    Return the values [24, 25, 26] from the array below by using slicing. \n",
    "</div>"
   ]
  },
  {
   "cell_type": "code",
   "execution_count": null,
   "metadata": {},
   "outputs": [],
   "source": []
  },
  {
   "cell_type": "markdown",
   "metadata": {},
   "source": [
    "<div class=\"alert alert-success\">\n",
    "    <b>Action [8]:</b> \n",
    "    Return the values [14, 16, 18, 20, 22] from the array below by slicing. \n",
    "</div>"
   ]
  },
  {
   "cell_type": "code",
   "execution_count": 12,
   "metadata": {},
   "outputs": [],
   "source": [
    "arr = np.arange(24).reshape((12, 2))\n"
   ]
  },
  {
   "cell_type": "code",
   "execution_count": null,
   "metadata": {},
   "outputs": [],
   "source": []
  },
  {
   "cell_type": "markdown",
   "metadata": {},
   "source": [
    "## Filling an array with data\n",
    "\n",
    "When learning about lists and dictionaries we learned that a convenient way to use these objects is to first create an empty list or dictionary and then fill it with values as you iterate over an object and then append items to the list, or add new key/val pairs to the dictionary. In numpy you have to do things a bit differently. You start by creating an array that is the full size that you plan to work with, initialized with some null value like zeros, and then you update the values with new data. \n",
    "\n",
    "The difference between these two approaches may seem subtle, but it can lead to huge speed improvements when done correctly in numpy. This is because numpy essentially reserves space in your computers memory for the size of the `array`, whereas a `list` that changes size as you extend it will need to keep updating the object in memory. As explained in your reading, this allows numpy to perform calculations using compiled functions in faster languages like C and fortran; it's a workaround that allows us to write pretty Python code but still benefit from super fast speed. \n",
    "\n",
    "These details only begin to matter when you do pretty high level computing, but it's worth learning the motivation for why we use numpy, and why the code looks the way that it does.  "
   ]
  },
  {
   "cell_type": "code",
   "execution_count": 13,
   "metadata": {},
   "outputs": [],
   "source": [
    "# common with lists: start with an empty list and fill it as you iterate\n",
    "empty = []\n",
    "for i in range(100):\n",
    "    empty.append(i)"
   ]
  },
  {
   "cell_type": "code",
   "execution_count": 14,
   "metadata": {},
   "outputs": [],
   "source": [
    "# filling an empty array doesn't work like with lists\n",
    "empty = np.array([])\n",
    "for i in range(100):\n",
    "    # ... a function does not exist to extend the size of arrays.\n",
    "    # ... only to generate new arrays of a given size\n",
    "    pass"
   ]
  },
  {
   "cell_type": "code",
   "execution_count": 15,
   "metadata": {},
   "outputs": [],
   "source": [
    "# instead, you create the full sized array with null values and update them by indexing\n",
    "empty = np.zeros(100)\n",
    "for i in range(100):\n",
    "    empty[i] = i"
   ]
  },
  {
   "cell_type": "markdown",
   "metadata": {},
   "source": [
    "## Biological examples\n"
   ]
  },
  {
   "cell_type": "markdown",
   "metadata": {},
   "source": [
    "<div class=\"alert alert-success\">\n",
    "    <b>Question [9]:</b> \n",
    "In your reading by Yandell and Ence they describe the use of summary statistics for describing the completeness and contiguity of a genome assembly. In Box 1 this includes a description of the N50 statistic. Using Markdown explain what an N50 contig size, and an N50 scaffold size. Is  bigger or smaller N50 better?\n",
    "\n",
    "</div>"
   ]
  },
  {
   "cell_type": "markdown",
   "metadata": {},
   "source": [
    "<div class=\"alert alert-warning\">\n",
    "    <h3>Response:</h3>\n",
    "\n",
    "Respond here.\n",
    "</div>\n"
   ]
  },
  {
   "cell_type": "markdown",
   "metadata": {},
   "source": [
    "### Computing N50 with numpy "
   ]
  },
  {
   "cell_type": "markdown",
   "metadata": {},
   "source": [
    "<div class=\"alert alert-success\">\n",
    "    <b>Action [10]:</b> \n",
    "Insert short comments at the indicated positions in the 10 code cells below to describe what each chunk of code is doing. \n",
    "    \n",
    "Hint: Look at the document string of each function interactively by putting your cursor inside of the parentheses and holding shift and pressing tab; Look in your assigned Chapter 2 reading; google the function name; and try to infer based on the returned output and the name of the function.\n",
    "</div>"
   ]
  },
  {
   "cell_type": "code",
   "execution_count": 16,
   "metadata": {},
   "outputs": [],
   "source": [
    "# run this first so that we all start from the same random seed\n",
    "import numpy as np\n",
    "np.random.seed(12345)"
   ]
  },
  {
   "cell_type": "code",
   "execution_count": 17,
   "metadata": {},
   "outputs": [
    {
     "data": {
      "text/plain": [
       "array([21962, 12749,  3177, 20876, 45457,  5094, 21862, 29005, 17930,\n",
       "       41477, 48873, 28766, 41251,  7798, 23633, 20547, 24287, 22878,\n",
       "       16568, 42842, 14001, 46323, 49205,  6842, 31983, 37907, 17615,\n",
       "        4511, 10503, 30025, 18239, 27660,  3624, 38251,  3812, 34916,\n",
       "       36983, 49499, 42297, 40019, 19821, 23562,  3419, 39917, 13514,\n",
       "        5204, 44269, 24611, 44091, 12788])"
      ]
     },
     "execution_count": 17,
     "metadata": {},
     "output_type": "execute_result"
    }
   ],
   "source": [
    "# 1. comment: \n",
    "contig_sizes = np.random.randint(1000, 50000, size=50)\n",
    "contig_sizes"
   ]
  },
  {
   "cell_type": "code",
   "execution_count": 18,
   "metadata": {},
   "outputs": [
    {
     "data": {
      "text/plain": [
       "array([ 3177,  3419,  3624,  3812,  4511,  5094,  5204,  6842,  7798,\n",
       "       10503, 12749, 12788, 13514, 14001, 16568, 17615, 17930, 18239,\n",
       "       19821, 20547, 20876, 21862, 21962, 22878, 23562, 23633, 24287,\n",
       "       24611, 27660, 28766, 29005, 30025, 31983, 34916, 36983, 37907,\n",
       "       38251, 39917, 40019, 41251, 41477, 42297, 42842, 44091, 44269,\n",
       "       45457, 46323, 48873, 49205, 49499])"
      ]
     },
     "execution_count": 18,
     "metadata": {},
     "output_type": "execute_result"
    }
   ],
   "source": [
    "# 2. comment: \n",
    "contig_sizes.sort()\n",
    "contig_sizes"
   ]
  },
  {
   "cell_type": "code",
   "execution_count": 19,
   "metadata": {},
   "outputs": [
    {
     "data": {
      "text/plain": [
       "array([49499, 49205, 48873, 46323, 45457, 44269, 44091, 42842, 42297,\n",
       "       41477, 41251, 40019, 39917, 38251, 37907, 36983, 34916, 31983,\n",
       "       30025, 29005, 28766, 27660, 24611, 24287, 23633, 23562, 22878,\n",
       "       21962, 21862, 20876, 20547, 19821, 18239, 17930, 17615, 16568,\n",
       "       14001, 13514, 12788, 12749, 10503,  7798,  6842,  5204,  5094,\n",
       "        4511,  3812,  3624,  3419,  3177])"
      ]
     },
     "execution_count": 19,
     "metadata": {},
     "output_type": "execute_result"
    }
   ],
   "source": [
    "# 3. comment: \n",
    "contig_sizes = contig_sizes[::-1]\n",
    "contig_sizes"
   ]
  },
  {
   "cell_type": "code",
   "execution_count": 20,
   "metadata": {},
   "outputs": [
    {
     "data": {
      "text/plain": [
       "1272443"
      ]
     },
     "execution_count": 20,
     "metadata": {},
     "output_type": "execute_result"
    }
   ],
   "source": [
    "# 4. comment:\n",
    "total_len = contig_sizes.sum()\n",
    "total_len"
   ]
  },
  {
   "cell_type": "code",
   "execution_count": 21,
   "metadata": {},
   "outputs": [
    {
     "data": {
      "text/plain": [
       "636221.5"
      ]
     },
     "execution_count": 21,
     "metadata": {},
     "output_type": "execute_result"
    }
   ],
   "source": [
    "# 5. comment: \n",
    "half_total_len = total_len / 2\n",
    "half_total_len"
   ]
  },
  {
   "cell_type": "code",
   "execution_count": 22,
   "metadata": {},
   "outputs": [
    {
     "data": {
      "text/plain": [
       "array([0, 0, 0, 0, 0, 0, 0, 0, 0, 0, 0, 0, 0, 0, 0, 0, 0, 0, 0, 0, 0, 0,\n",
       "       0, 0, 0, 0, 0, 0, 0, 0, 0, 0, 0, 0, 0, 0, 0, 0, 0, 0, 0, 0, 0, 0,\n",
       "       0, 0, 0, 0, 0, 0])"
      ]
     },
     "execution_count": 22,
     "metadata": {},
     "output_type": "execute_result"
    }
   ],
   "source": [
    "# 6. comment:\n",
    "contig_sum_lens = np.zeros(contig_sizes.size, dtype=int)\n",
    "contig_sum_lens"
   ]
  },
  {
   "cell_type": "code",
   "execution_count": 23,
   "metadata": {},
   "outputs": [
    {
     "data": {
      "text/plain": [
       "array([1272443, 1222944, 1173739, 1124866, 1078543, 1033086,  988817,\n",
       "        944726,  901884,  859587,  818110,  776859,  736840,  696923,\n",
       "        658672,  620765,  583782,  548866,  516883,  486858,  457853,\n",
       "        429087,  401427,  376816,  352529,  328896,  305334,  282456,\n",
       "        260494,  238632,  217756,  197209,  177388,  159149,  141219,\n",
       "        123604,  107036,   93035,   79521,   66733,   53984,   43481,\n",
       "         35683,   28841,   23637,   18543,   14032,   10220,    6596,\n",
       "          3177])"
      ]
     },
     "execution_count": 23,
     "metadata": {},
     "output_type": "execute_result"
    }
   ],
   "source": [
    "# 7. comment: \n",
    "for i in range(contig_sizes.size):\n",
    "    contig_sum_lens[i] = contig_sizes[i:].sum()\n",
    "contig_sum_lens"
   ]
  },
  {
   "cell_type": "code",
   "execution_count": 24,
   "metadata": {},
   "outputs": [
    {
     "data": {
      "text/plain": [
       "array([ True,  True,  True,  True,  True,  True,  True,  True,  True,\n",
       "        True,  True,  True,  True,  True,  True, False, False, False,\n",
       "       False, False, False, False, False, False, False, False, False,\n",
       "       False, False, False, False, False, False, False, False, False,\n",
       "       False, False, False, False, False, False, False, False, False,\n",
       "       False, False, False, False, False])"
      ]
     },
     "execution_count": 24,
     "metadata": {},
     "output_type": "execute_result"
    }
   ],
   "source": [
    "# 8. comment: \n",
    "which_contigs_longer_than_half = contig_sum_lens > half_total_len\n",
    "which_contigs_longer_than_half"
   ]
  },
  {
   "cell_type": "code",
   "execution_count": 25,
   "metadata": {},
   "outputs": [
    {
     "data": {
      "text/plain": [
       "array([49499, 49205, 48873, 46323, 45457, 44269, 44091, 42842, 42297,\n",
       "       41477, 41251, 40019, 39917, 38251, 37907])"
      ]
     },
     "execution_count": 25,
     "metadata": {},
     "output_type": "execute_result"
    }
   ],
   "source": [
    "# 9. comment: \n",
    "contigs_longer_than_half = contig_sizes[which_contigs_longer_than_half]\n",
    "contigs_longer_than_half"
   ]
  },
  {
   "cell_type": "code",
   "execution_count": 26,
   "metadata": {},
   "outputs": [
    {
     "data": {
      "text/plain": [
       "37907"
      ]
     },
     "execution_count": 26,
     "metadata": {},
     "output_type": "execute_result"
    }
   ],
   "source": [
    "# 10. comment:\n",
    "n50 = contigs_longer_than_half.min()\n",
    "n50"
   ]
  },
  {
   "cell_type": "markdown",
   "metadata": {},
   "source": [
    "<div class=\"alert alert-success\">\n",
    "    <b>Question [11]:</b> \n",
    "Summarize in Markdown below how the ten lines of code above accomplish the task of computing N50 starting with a list of contig lengths. \n",
    "</div>"
   ]
  },
  {
   "cell_type": "markdown",
   "metadata": {},
   "source": [
    "<div class=\"alert alert-warning\">\n",
    "    <h3>Response:</h3>\n",
    "\n",
    "Respond here.\n",
    "</div>\n",
    "\n"
   ]
  },
  {
   "cell_type": "markdown",
   "metadata": {},
   "source": [
    "<div class=\"alert alert-success\">\n",
    "    <b>Action [12]:</b> \n",
    "Bonus challenge (optional/not-graded): combine the lines of code above together into a function that takes the list of contig lengths as an input argument (something you would typically have after completing a genome assembly) and returns the N50 statistic. Test your function to see if it works. If you get stuck on this do not worry.  \n",
    "</div>"
   ]
  },
  {
   "cell_type": "code",
   "execution_count": null,
   "metadata": {},
   "outputs": [],
   "source": []
  },
  {
   "cell_type": "markdown",
   "metadata": {},
   "source": [
    "<div class=\"alert alert-success\">\n",
    "    <b>Action:</b> \n",
    "Save and Download this notebook as HTML to upload to courseworks.\n",
    "</div>"
   ]
  }
 ],
 "metadata": {
  "kernelspec": {
   "display_name": "Python 3",
   "language": "python",
   "name": "python3"
  },
  "language_info": {
   "codemirror_mode": {
    "name": "ipython",
    "version": 3
   },
   "file_extension": ".py",
   "mimetype": "text/x-python",
   "name": "python",
   "nbconvert_exporter": "python",
   "pygments_lexer": "ipython3",
   "version": "3.7.3"
  }
 },
 "nbformat": 4,
 "nbformat_minor": 2
}
