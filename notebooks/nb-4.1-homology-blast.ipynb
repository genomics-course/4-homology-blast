{
 "cells": [
  {
   "cell_type": "markdown",
   "metadata": {},
   "source": [
    "## Notebook 4.1 -- Homology and BLAST\n",
    "\n",
    "This notebook is intended to accompany the following assigned reading: \n",
    "    \n",
    "+ Waterhouse, Robert M., Fredrik Tegenfeldt, Jia Li, Evgeny M. Zdobnov, and Evgenia V. Kriventseva. 2013. “OrthoDB: A Hierarchical Catalog of Animal, Fungal and Bacterial Orthologs.” Nucleic Acids Research 41: D358–65. https://doi.org/10.1093/nar/gks1116."
   ]
  },
  {
   "cell_type": "markdown",
   "metadata": {},
   "source": [
    "### Learning objectives: \n",
    "By the end of this notebook your should be able to:\n",
    "\n",
    "1. Explain the difference between homologs, orthologs, and paralogs.\n",
    "2. Perform a blastn search of a nucleotide sequence. \n",
    "3. Explain the intended use of the *orthoDB* software. "
   ]
  },
  {
   "cell_type": "markdown",
   "metadata": {},
   "source": [
    "### Introduction to homology\n",
    "\n",
    "In biology we use [homology](https://en.wikipedia.org/wiki/Homology_(biology)) as a basis for performing comparisons. Homology is an evolutionary concept: two things are homologous if they descended from a common ancestor. Examples of homology include [bones in the forelimbs of vertebrates](https://en.wikipedia.org/wiki/Homology_(biology)); or copies of the hemoglobin gene in humans and chimpanzees. Related lineages inherited these structures from their common ancestors and over time they may have become modified and differentiated. Yet, given similarities that structures have retained, we can learn about the ancestral morphology, and how natural selection shaped their changes over time.\n",
    "\n",
    "In molecular biology we are interested in the homology of genetic information: are two genes homologous, and what was the ancestral gene like? For example, we might compare the hemoglobin gene in humans to the hemoglobin genes in other primates to examine how it has changed over time since their divergence. If we compared the human hemoglobin gene to a completely different gene in other primates (one that is not homologous) we would not be able to draw the same types of inference.\n",
    "\n",
    "Homology is important for making conclusions based on the information that is available to us *today*. Because all organisms, and their genes, are related by evolutionary history, this provides a basis for understanding how changes to gene sequences have led to functional changes. For the most part, we can only sample DNA from organisms that are alive today. Therefore, we need to **infer** homology based on whatever criteria makes the most sense. The most common, and simple method for doing so is to measure *sequence similarity* among nucleotides or amino acids. If two sequences are very similar then they likely diverged from a common ancestral sequence in the recent past. Over *very* long time periods, however, sequences can sometimes diverge so much that identifying homology becomes difficult. "
   ]
  },
  {
   "cell_type": "markdown",
   "metadata": {},
   "source": [
    "### Orthology and paralogy\n",
    "\n",
    "In addition to identifying whether genes are homologous, we are often additionally interested in the history of how a specific gene came to be in one genome or another. As we learned before, different organisms can have different numbers of genes. New genes can arise from gene or genome duplications, or by horizontal gene transfer. And genes can be lost through a variety of mechanisms including errors during genome replication, or [pseudogenization](https://en.wikipedia.org/wiki/Pseudogene). \n",
    "\n",
    "Please read the paragraphs on **orthology** and **paralogy** in [Wikipedia: Sequence homology]( https://en.wikipedia.org/wiki/Sequence_homology). \n",
    "\n"
   ]
  },
  {
   "cell_type": "markdown",
   "metadata": {},
   "source": [
    "### Pseudogenes\n",
    "\n",
    "*Orthologs* are copies of the **same** gene that are inherited by descent through speciation events. If there are no duplicated copies of a gene then we expect that species will retain a working copy of the gene, otherwise the gene function will be lost. If the function has been lost in some species -- for example, some species of spiders become adapted to caves and lose function of their eyes, while others not in caves retain their eyes -- we might be interested in sequencing the gene to study how it has been lost, and which mutations altered its function.  \n",
    "\n",
    "*Paralogs* are duplicated copies of genes. Gene duplications are a common feature of genome evolution and have likely contributed greatly to the evolution of novel differences between species. When an organism has two copies of a gene that each perform a similar function there will be *relaxed selection* for the gene to maintain its function. Therefore, new mutations may arise in one gene copy that alter its function; even a stop codon that terminates the encoding of an amino acid polypeptide chain. Because there is still another working copy of the gene the first may accumulate many mutations, even to the point that it becomes difficult to identify. These genes with lost functions are called pseudogenes. "
   ]
  },
  {
   "cell_type": "markdown",
   "metadata": {},
   "source": [
    "### Genomic applications of the concept of orthology\n",
    "\n",
    "Our reading last week on *Genome Annotation* introduced the importance of genome databases, and model organisms, for annotating genomes. Model organisms are organisms that have typically been intensively studied for decades, such that there is abundant *experimental* evidence of the function of genes based on studies that *knocked-out* or modified the expression of those genes. Famous model organisms include *E. coli*, *C. elegans* (nematode), *S. cereviseae* (yeast), *D. melanogaster* (fruit fly), *M. musculus* (house mouse), and others.\n",
    "\n",
    "Given that the function of a gene has been experimentally determined in one of these organisms, if the organism that you are studying also has that gene, and the sequence remains highly similar to the homologous gene in the model organism, then we might be justified in inferring that the gene has the same function in our organisms. In other words, we can use the evolutionary concept of orthology to tentatively transfer the functional annotation from the well-studied organism to our less well studied organism. "
   ]
  },
  {
   "cell_type": "markdown",
   "metadata": {},
   "source": [
    "<div class=\"alert alert-success\">\n",
    "    <b>Question [1]:</b> \n",
    "Using orthology to transfer the gene functional annotation from one organism to another might be inaccurate in some instances. What type of things do you think could lead to these inaccuracies? In other words, why is the function of the model organism gene not always the same as some other organism being compared to it? Answer in Markdown below. \n",
    "</div>"
   ]
  },
  {
   "cell_type": "code",
   "execution_count": null,
   "metadata": {},
   "outputs": [],
   "source": []
  },
  {
   "cell_type": "markdown",
   "metadata": {},
   "source": [
    "---------------------------------------\n",
    "\n",
    "### Species sampling: Protein coding gene sets\n",
    "\n",
    "The OrthoDB paper by Waterhouse et al. includes a section called **Species Sampling** in which they describe where they get the data that they use in their software. For a large set of Eukaryotes and Bactieria they access genome databases (in their case Ensemble and several others) and download two files for each genome: a GFF file, and a protein-coding gene set. As we've seen before, such files are easily accessible from genome databases like NCBI. As a reminder, you can visit the Human reference genome FTP site on NCBI [https://ftp.ncbi.nlm.nih.gov/genomes/refseq/vertebrate_mammalian/Homo_sapiens/reference/GCF_000001405.38_GRCh38.p12/](https://ftp.ncbi.nlm.nih.gov/genomes/refseq/vertebrate_mammalian/Homo_sapiens/reference/GCF_000001405.38_GRCh38.p12/), there you can see the GFF file (ending in `.gff.gz`) and the protein-coding set file (ending in `._protein.faa.gz`). The latter is simply a fasta file with the protein names (matching those in the GFF) and their amino acid sequences. You do not need to download these now. "
   ]
  },
  {
   "cell_type": "markdown",
   "metadata": {},
   "source": [
    "### BLAST: Measuring sequence similarity\n",
    "\n",
    "The [BLAST tool](https://en.wikipedia.org/wiki/BLAST) (Basic Alignment Search Tool) has been one of the most widely used algorithms in bioinformatics for over two decades, and continues to be integral today. It even forms part of the OrthoDB tool that is the subject of your reading. BLAST is composed of four main tools:\n",
    "\n",
    "`blastn`: Search a nucleotide sequence against a database to find the closest matches.  \n",
    "`blastp`: Search an amino acid sequence against a database to find the closest matches.  \n",
    "`blastx`: Search a nucleotide sequence to find best matching amino acid sequence.   \n",
    "`tblastn`: Search an amino acid sequence to find best matching nucleotide sequence. \n",
    "\n",
    "\n",
    "![https://raw.githubusercontent.com/genomics-course/4-homology-blast/master/data/blast-splash.png](https://raw.githubusercontent.com/genomics-course/4-homology-blast/master/data/blast-splash.png)"
   ]
  },
  {
   "cell_type": "markdown",
   "metadata": {},
   "source": [
    "### blastn example\n",
    "The blastn tool is probably the most commonly used of the set. These are great investigative tools. Imagine you came across *some sequence* of DNA and like a detective you want to know *where* it could have come from. What organism in the database has a DNA sequence most similar to it? This is what BLAST is good at. Let's try it figuring this out with the unknown sequence below:"
   ]
  },
  {
   "cell_type": "code",
   "execution_count": null,
   "metadata": {},
   "outputs": [],
   "source": [
    "# copy the sequence (ctrl+c) from the output cell\n",
    "sequence = \"GCTAGACCTCACTACTAACAATTCCTCCTCTACTACCTCCTCCACCACTTCCAAAGCATCACCACCAATAACCCATCATTCCATAGTGAATGGACAGTCTTCAGTTCTGAATGCAAGGCGAGAC\"\n",
    "print(sequence)"
   ]
  },
  {
   "cell_type": "markdown",
   "metadata": {},
   "source": [
    "<div class=\"alert alert-success\">\n",
    "    <b>Action [2]:</b> \n",
    "Open a tab in your browser to https://blast.ncbi.nlm.nih.gov/Blast.cgi and plug the sequence above into the box labeled \"Enter accession number(s), gi(s), or FASTA sequences(s)\". Then scroll down to the bottom and press the BLAST button. It will take a few seconds to generate a result. A GIF below demonstrates these instructions. The next few questions will ask you about the result page. \n",
    "</div>\n",
    "\n",
    "![https://raw.githubusercontent.com/genomics-course/4-homology-blast/master/data/blast-example.gif](https://raw.githubusercontent.com/genomics-course/4-homology-blast/master/data/blast-example.gif)"
   ]
  },
  {
   "cell_type": "markdown",
   "metadata": {},
   "source": [
    "Go to the section in the results labeled \"Descriptions\" and look at the table of results. Here you can find sequences in the database that matched to our `query` sequence, ordered by those that matched the closest at the top. The table shows how many nucleotides were compared, how many matched, the percentage matched, and an [E-value] which can be thought of as a statitical test for significance that the sequences are homologous. \n",
    "\n",
    "The labels used for each sequence can sometime be hard to decipher. This is because they are often created by *automated genome annotation software*, which compared this sequence to one in a database and *predicted* the gene based on similarity. This is why many of the matches have \"PREDICTED:\" in their names. \n"
   ]
  },
  {
   "cell_type": "markdown",
   "metadata": {},
   "source": [
    "<div class=\"alert alert-success\">\n",
    "    <b>Question [3]:</b> \n",
    "    What are the top 5 matches in the Description table of the blastn results? Are these from multiple different organisms? Can you tell conclusively from these results which organism our query sequence came from? What information are you using to make this inference? Try clicking the \"accession\" links on the far right of the match to find more information about them. Respond using Markdown in the cell below. \n",
    "</div>"
   ]
  },
  {
   "cell_type": "code",
   "execution_count": null,
   "metadata": {},
   "outputs": [],
   "source": []
  },
  {
   "cell_type": "markdown",
   "metadata": {},
   "source": [
    "----------------------------------------------\n",
    "\n",
    "### Restricting a blast search\n",
    "For the first search we did not change any of the default options in blast. But there are many ways in which we can constrain or modify the search. Let's start by restricting the taxonomic scope of the results. Instead of *anything* in the database being returned, we can ask whether there is anything that matches closely to our query sequence in a specific group of organisms, like \"Hominoideae\", which is the taxonomic name for humans and their close ape relatives. To do this go back to the blastn page and search the sequence just like before but this time go to the section labeled **Organism** and begin to type \"Hominoideae\", it will auto-complete to suggest the full entry. Again, a GIF below demonstrates. \n",
    "\n",
    "![https://raw.githubusercontent.com/genomics-course/4-homology-blast/master/data/blast-hominoid.gif](https://raw.githubusercontent.com/genomics-course/4-homology-blast/master/data/blast-hominoid.gif)"
   ]
  },
  {
   "cell_type": "markdown",
   "metadata": {},
   "source": [
    "<div class=\"alert alert-success\">\n",
    "    <b>Question [4]:</b> \n",
    "    What are the top 5 matches in the Description table now? Are the match  identities higher or lower than before? Respond using Markdown in the cell below. \n",
    "</div>"
   ]
  },
  {
   "cell_type": "code",
   "execution_count": null,
   "metadata": {},
   "outputs": [],
   "source": []
  },
  {
   "cell_type": "markdown",
   "metadata": {},
   "source": [
    "<div class=\"alert alert-success\">\n",
    "    <b>Question [5]:</b> \n",
    "Continue scrolling down the results page until you get to the \"Alignments\" section. Here you can see exactly which bases in the alignment are different between your query sequence and the matched target. Compare the first three alignments. Are you surprised there is so little difference between the query sequence and these sequences? Why do you think this gene is so conserved?\n",
    "</div>"
   ]
  },
  {
   "cell_type": "code",
   "execution_count": null,
   "metadata": {},
   "outputs": [],
   "source": []
  },
  {
   "cell_type": "markdown",
   "metadata": {},
   "source": [
    "### OrthoDB: Retrieve information on genes/orthogroups across *phylogeny*\n",
    "\n",
    "The orthoDB tool can be used to learn about the diversity of a gene across a database of organisms. For example, has a gene been duplicated, or is it represented as a single copy ortholog in each organism. Is it highly conserved or variable among the taxa? \n"
   ]
  },
  {
   "cell_type": "markdown",
   "metadata": {},
   "source": [
    "Go to https://www.orthodb.org/ and enter \"FOXP2\" into the search box and hit the submit button. This will bring up a few boxes of results representing Orthogroups that the OrthoDB database has identified. These are groups of homologous genes of the FOXP2 gene that were clustered together based on blastp amino acid sequence comparisons. Orthogroups can be examined for many subsets of taxa involved in these clusters. The top hit should be labeled \"forkhead box protein P2\" at the *Eukaryota* level. This means it includes results from across the entire Eukaryote tree of life. \n"
   ]
  },
  {
   "cell_type": "markdown",
   "metadata": {},
   "source": [
    "<div class=\"alert alert-success\">\n",
    "    <b>Question [6]:</b> \n",
    "    How many genes were found in the FoxP2 orthogroup and across how many species? Do you think this gene has been duplicated in any of them? Answer in Markdown below. \n",
    "</div>"
   ]
  },
  {
   "cell_type": "code",
   "execution_count": null,
   "metadata": {},
   "outputs": [],
   "source": []
  },
  {
   "cell_type": "markdown",
   "metadata": {},
   "source": [
    "<div class=\"alert alert-success\">\n",
    "    <b>Question [7]:</b> \n",
    "At the top of the results page you can find a list of \"Functional descriptions\". This includes a description of the function of genes in this orthogroup *at this level of organization* (here, among Eukaryota). What functional categories are associated with this orthogroup? Answer in Markdown below. \n",
    "</div>"
   ]
  },
  {
   "cell_type": "code",
   "execution_count": null,
   "metadata": {},
   "outputs": [],
   "source": []
  },
  {
   "cell_type": "markdown",
   "metadata": {},
   "source": [
    "<div class=\"alert alert-success\">\n",
    "    <b>Question [8]:</b> \n",
    "As you scroll down the results page you can find a section called \"Orthologs by organism\". This lists all of the genes found within each organism. You can click \"Show all available species\" to see more. What are the names of the genes found in Homo Sapiens?\n",
    "</div>"
   ]
  },
  {
   "cell_type": "code",
   "execution_count": null,
   "metadata": {},
   "outputs": [],
   "source": []
  },
  {
   "cell_type": "markdown",
   "metadata": {},
   "source": [
    "<div class=\"alert alert-success\">\n",
    "    <b>Question [9]:</b> \n",
    "What is the relationship between the following homologous genes copies: \n",
    "Are the copies of FOXP1 in *Homo sapiens* and *Gorilla gorilla* orthologs or paralogs? Are the copies of FOXP1 and FOXP2 in *Homo sapiens* orthologs or paralogs?\n",
    "</div>"
   ]
  },
  {
   "cell_type": "code",
   "execution_count": null,
   "metadata": {},
   "outputs": [],
   "source": []
  },
  {
   "cell_type": "markdown",
   "metadata": {},
   "source": [
    "-----------------------------------\n",
    "\n",
    "### Restricting the phylogenetic scope\n",
    "Go back to the [https://www.orthodb.org/?](https://www.orthodb.org/?) and enter \"FOXP2\" in the search box again, but this time before you press submit go to the \"Advanced\" button to open additional options. Here, go to the box labeled \"Search species by name\" and enter \"Hominoideae\". Again, it will auto-complete the entry for you. If you accidentally select something else be sure to unselect it, and then select \"Hominoideae\". Now press Submit to pull up a results page for FOXP2 genes *only within Hominoideae*. "
   ]
  },
  {
   "cell_type": "markdown",
   "metadata": {},
   "source": [
    "<div class=\"alert alert-success\">\n",
    "    <b>Question [10]:</b> \n",
    "How many homologous gene copies of this orthogroup are found in the Hominoideae? What are the names of these genes? Answer in Markdown below. \n",
    "</div>    "
   ]
  },
  {
   "cell_type": "code",
   "execution_count": null,
   "metadata": {},
   "outputs": [],
   "source": []
  },
  {
   "cell_type": "markdown",
   "metadata": {},
   "source": [
    "<div class=\"alert alert-success\">\n",
    "    <b>Question [11]:</b> \n",
    "Take a look at the predicted function of FOXP2 in Hominoideae on orthoDB. Now go to google and search \"FOXP2 gene\" to find the most commonly investigated function of FOXP2 (you'll find it easily, it's a pretty famous gene). What did you find on google? Do you see that function listed here? Why do you think so many other functions are also listed? Answer in Markdown below.\n",
    "</div>"
   ]
  },
  {
   "cell_type": "code",
   "execution_count": null,
   "metadata": {},
   "outputs": [],
   "source": []
  },
  {
   "cell_type": "markdown",
   "metadata": {},
   "source": [
    "<div class=\"alert alert-success\">\n",
    "Save and download this notebook to upload to courseworks when finished.\n",
    "</div>"
   ]
  }
 ],
 "metadata": {
  "kernelspec": {
   "display_name": "Python 3",
   "language": "python",
   "name": "python3"
  },
  "language_info": {
   "codemirror_mode": {
    "name": "ipython",
    "version": 3
   },
   "file_extension": ".py",
   "mimetype": "text/x-python",
   "name": "python",
   "nbconvert_exporter": "python",
   "pygments_lexer": "ipython3",
   "version": "3.6.7"
  }
 },
 "nbformat": 4,
 "nbformat_minor": 2
}
